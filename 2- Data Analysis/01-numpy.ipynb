{
 "cells": [
  {
   "cell_type": "code",
   "execution_count": 1,
   "metadata": {},
   "outputs": [],
   "source": [
    "import numpy as np"
   ]
  },
  {
   "cell_type": "code",
   "execution_count": 2,
   "metadata": {},
   "outputs": [
    {
     "data": {
      "text/plain": [
       "array([1, 2, 3, 4, 5])"
      ]
     },
     "execution_count": 2,
     "metadata": {},
     "output_type": "execute_result"
    }
   ],
   "source": [
    "#create array\n",
    "\n",
    "df=np.array([1,2,3,4,5]) # 1D array (vector)\n",
    "df"
   ]
  },
  {
   "cell_type": "code",
   "execution_count": 3,
   "metadata": {},
   "outputs": [
    {
     "data": {
      "text/plain": [
       "numpy.ndarray"
      ]
     },
     "execution_count": 3,
     "metadata": {},
     "output_type": "execute_result"
    }
   ],
   "source": [
    "type(df)"
   ]
  },
  {
   "cell_type": "code",
   "execution_count": 4,
   "metadata": {},
   "outputs": [
    {
     "data": {
      "text/plain": [
       "(5,)"
      ]
     },
     "execution_count": 4,
     "metadata": {},
     "output_type": "execute_result"
    }
   ],
   "source": [
    "df.shape"
   ]
  },
  {
   "cell_type": "code",
   "execution_count": 5,
   "metadata": {},
   "outputs": [
    {
     "data": {
      "text/plain": [
       "array([[1, 2, 3, 4, 5]])"
      ]
     },
     "execution_count": 5,
     "metadata": {},
     "output_type": "execute_result"
    }
   ],
   "source": [
    "df2=np.array([1,2,3,4,5]) \n",
    "df2.reshape(1,5) # 2D array  5 column 1 row matris\n",
    "\n"
   ]
  },
  {
   "cell_type": "code",
   "execution_count": 6,
   "metadata": {},
   "outputs": [
    {
     "data": {
      "text/plain": [
       "array([[1],\n",
       "       [2],\n",
       "       [3],\n",
       "       [4],\n",
       "       [5]])"
      ]
     },
     "execution_count": 6,
     "metadata": {},
     "output_type": "execute_result"
    }
   ],
   "source": [
    "df2.reshape(5,1) # 2D array  1 column 5 row matris"
   ]
  },
  {
   "cell_type": "code",
   "execution_count": 7,
   "metadata": {},
   "outputs": [
    {
     "data": {
      "text/plain": [
       "(2, 5)"
      ]
     },
     "execution_count": 7,
     "metadata": {},
     "output_type": "execute_result"
    }
   ],
   "source": [
    "df3=np.array([[1,2,3,4,5],[6,7,8,9,10]]) \n",
    "df3.shape"
   ]
  },
  {
   "cell_type": "code",
   "execution_count": 8,
   "metadata": {},
   "outputs": [
    {
     "data": {
      "text/plain": [
       "array([[1],\n",
       "       [3],\n",
       "       [5],\n",
       "       [7],\n",
       "       [9]])"
      ]
     },
     "execution_count": 8,
     "metadata": {},
     "output_type": "execute_result"
    }
   ],
   "source": [
    "df4=np.arange(1,10,2).reshape(5,1)\n",
    "df4"
   ]
  },
  {
   "cell_type": "code",
   "execution_count": 9,
   "metadata": {},
   "outputs": [
    {
     "data": {
      "text/plain": [
       "array([[1.],\n",
       "       [1.],\n",
       "       [1.],\n",
       "       [1.],\n",
       "       [1.]])"
      ]
     },
     "execution_count": 9,
     "metadata": {},
     "output_type": "execute_result"
    }
   ],
   "source": [
    "d5=np.ones((5,1))\n",
    "d5"
   ]
  },
  {
   "cell_type": "code",
   "execution_count": 10,
   "metadata": {},
   "outputs": [
    {
     "data": {
      "text/plain": [
       "array([[1., 0., 0.],\n",
       "       [0., 1., 0.],\n",
       "       [0., 0., 1.]])"
      ]
     },
     "execution_count": 10,
     "metadata": {},
     "output_type": "execute_result"
    }
   ],
   "source": [
    "#identitiy matrix\n",
    "np.eye(3)#3x3 I matrix"
   ]
  },
  {
   "cell_type": "code",
   "execution_count": 11,
   "metadata": {},
   "outputs": [
    {
     "name": "stdout",
     "output_type": "stream",
     "text": [
      "array:\n",
      "[[1 2 3]\n",
      " [4 5 6]]\n",
      "shape:(2, 3)\n",
      "dimension:2\n",
      "size:6\n",
      "data type:int32\n",
      "item size in bytes:4\n"
     ]
    }
   ],
   "source": [
    "array=np.array([[1,2,3],[4,5,6]])\n",
    "print(f'array:\\n{array}')\n",
    "print(f'shape:{array.shape}')\n",
    "print(f'dimension:{array.ndim}')\n",
    "print(f'size:{array.size}')\n",
    "print(f'data type:{array.dtype}')\n",
    "print(f'item size in bytes:{array.itemsize}')\n",
    "\n",
    "\n",
    "\n",
    "\n"
   ]
  },
  {
   "cell_type": "code",
   "execution_count": 12,
   "metadata": {},
   "outputs": [
    {
     "name": "stdout",
     "output_type": "stream",
     "text": [
      "addition [11 22 33 44 55 66]\n",
      "substraction [ 9 18 27 36 45 54]\n",
      "multiplication [ 10  40  90 160 250 360]\n",
      "division [10. 10. 10. 10. 10. 10.]\n"
     ]
    }
   ],
   "source": [
    "##vectorized operations\n",
    "array1=np.array([1,2,3,4,5,6])\n",
    "array2=np.array([10,20,30,40,50,60])\n",
    "\n",
    "print('addition',array1+array2)\n",
    "print('substraction',array2-array1)\n",
    "print('multiplication',array1*array2)\n",
    "print('division',array2/array1)\n"
   ]
  },
  {
   "cell_type": "code",
   "execution_count": 13,
   "metadata": {},
   "outputs": [
    {
     "name": "stdout",
     "output_type": "stream",
     "text": [
      "square root [1.         1.41421356 1.73205081 2.         2.23606798 2.44948974]\n",
      "exponential [  2.71828183   7.3890561   20.08553692  54.59815003 148.4131591\n",
      " 403.42879349]\n",
      "sine [ 0.84147098  0.90929743  0.14112001 -0.7568025  -0.95892427 -0.2794155 ]\n",
      "log [0.         0.69314718 1.09861229 1.38629436 1.60943791 1.79175947]\n"
     ]
    },
    {
     "data": {
      "text/plain": [
       "'\\narr = np.array([30, 40])\\narr_radians = np.radians(arr)  # degree to radian \\nsin_values = np.sin(arr_radians)\\n'"
      ]
     },
     "execution_count": 13,
     "metadata": {},
     "output_type": "execute_result"
    }
   ],
   "source": [
    "##universal function (which is for every variable in array)\n",
    "array1=np.array([1,2,3,4,5,6])\n",
    "#square root\n",
    "print('square root',np.sqrt(array1))\n",
    "#exponential\n",
    "print('exponential',np.exp(array1))\n",
    "#sine\n",
    "print('sine',np.sin(array1)) ###RADIAN\n",
    "#log\n",
    "print('log',np.log(array1))\n",
    "\n",
    "\n",
    "'''\n",
    "arr = np.array([30, 40])\n",
    "arr_radians = np.radians(arr)  # degree to radian \n",
    "sin_values = np.sin(arr_radians)\n",
    "'''  \n",
    "\n"
   ]
  },
  {
   "cell_type": "code",
   "execution_count": 14,
   "metadata": {},
   "outputs": [
    {
     "name": "stdout",
     "output_type": "stream",
     "text": [
      "array:\n",
      " [[ 1  2  3  4]\n",
      " [ 5  6  7  8]\n",
      " [ 9 10 11 12]] \n",
      "\n",
      "first row first element 1\n",
      "first row second element 2\n",
      "i want to get 7 8 11 12\n",
      "[[ 7  8]\n",
      " [11 12]]\n",
      "i want to get 3 4 7 8\n",
      "[[3 4]\n",
      " [7 8]]\n"
     ]
    }
   ],
   "source": [
    "#slicing and indexing\n",
    "\n",
    "array=np.array([[1,2,3,4],[5,6,7,8],[9,10,11,12]])\n",
    "print('array:\\n',array,'\\n')\n",
    "print('first row first element',array[0][0])\n",
    "print('first row second element',array[0][1])\n",
    "\n",
    "print('i want to get 7 8 11 12')\n",
    "print(array[1:,2:])\n",
    "print('i want to get 3 4 7 8')\n",
    "print(array[0:2,2:]) #(0 ve 1. Satır 2 dahil değil) ve 2. sütundan itibaren tüm sütunların seçilmesini sağlar.\n",
    "\n"
   ]
  },
  {
   "cell_type": "code",
   "execution_count": 20,
   "metadata": {},
   "outputs": [
    {
     "data": {
      "text/plain": [
       "array([[ 1,  2],\n",
       "       [ 9, 10]])"
      ]
     },
     "execution_count": 20,
     "metadata": {},
     "output_type": "execute_result"
    }
   ],
   "source": [
    "# İlk ve üçüncü satırı (0. ve 2. indeks), ilk iki sütunu (0 ve 1. indeks) al\n",
    "result = array[[0, 2], :2]\n",
    "result"
   ]
  },
  {
   "cell_type": "code",
   "execution_count": 27,
   "metadata": {},
   "outputs": [
    {
     "data": {
      "text/plain": [
       "array([[ 6,  7],\n",
       "       [10, 11]])"
      ]
     },
     "execution_count": 27,
     "metadata": {},
     "output_type": "execute_result"
    }
   ],
   "source": [
    "# 6 7 9 10\n",
    "res=array[[1,2],1:3]\n",
    "res\n"
   ]
  },
  {
   "cell_type": "code",
   "execution_count": 29,
   "metadata": {},
   "outputs": [
    {
     "name": "stdout",
     "output_type": "stream",
     "text": [
      "[[ 6  7]\n",
      " [10 11]]\n"
     ]
    }
   ],
   "source": [
    "#second method\n",
    "print(array[1:,1:3])"
   ]
  },
  {
   "cell_type": "code",
   "execution_count": null,
   "metadata": {},
   "outputs": [],
   "source": [
    "###normalization\n",
    "## have a mean of 0 and standart devation of 1"
   ]
  },
  {
   "cell_type": "code",
   "execution_count": null,
   "metadata": {},
   "outputs": [
    {
     "name": "stdout",
     "output_type": "stream",
     "text": [
      "mean: 5.5\n",
      "median: 5.5\n",
      "standartdviation: 2.8722813232690143\n",
      "variance: 8.25\n"
     ]
    }
   ],
   "source": [
    "data=np.array([1,2,3,4,5,6,7,8,9,10])\n",
    "\n",
    "mean=np.mean(data)\n",
    "print('mean:',mean)\n",
    "median=np.median(data) #Sıralanmış veri kümesinde ortada bulunan değerdir.\n",
    "\n",
    "#Eğer eleman sayısı tek ise → Tam ortadaki eleman alınır.\n",
    "#Eğer eleman sayısı çift ise → Ortadaki iki elemanın ortalaması alınır.\n",
    "\n",
    "print('median:',median)\n",
    "standartdviation=np.std(data)\n",
    "print('standartdviation:',standartdviation)\n",
    "# Verilerin ortalamadan ne kadar sapma gösterdiğini ölçer. Daha büyük bir standart sapma, verilerin daha yaygın olduğunu gösterir.\n",
    "\n",
    "\n",
    "variance=np.var(data)\n",
    "print('variance:',variance)\n",
    "#Varyans, standart sapmanın karesi olup, verilerin ortalamaya göre ne kadar değiştiğini gösterir.\n",
    "\n",
    "\n"
   ]
  },
  {
   "cell_type": "code",
   "execution_count": 35,
   "metadata": {},
   "outputs": [
    {
     "data": {
      "text/plain": [
       "array([ 6,  7,  8,  9, 10])"
      ]
     },
     "execution_count": 35,
     "metadata": {},
     "output_type": "execute_result"
    }
   ],
   "source": [
    "#logical operation \n",
    "\n",
    "data=np.array([1,2,3,4,5,6,7,8,9,10])\n",
    "data[data>5] "
   ]
  },
  {
   "cell_type": "code",
   "execution_count": 36,
   "metadata": {},
   "outputs": [
    {
     "data": {
      "text/plain": [
       "array([], dtype=int32)"
      ]
     },
     "execution_count": 36,
     "metadata": {},
     "output_type": "execute_result"
    }
   ],
   "source": [
    "data[data>10] "
   ]
  },
  {
   "cell_type": "code",
   "execution_count": 39,
   "metadata": {},
   "outputs": [
    {
     "data": {
      "text/plain": [
       "array([6, 7, 8, 9])"
      ]
     },
     "execution_count": 39,
     "metadata": {},
     "output_type": "execute_result"
    }
   ],
   "source": [
    "data[(data>5) & (data<10)] "
   ]
  },
  {
   "cell_type": "code",
   "execution_count": null,
   "metadata": {},
   "outputs": [],
   "source": []
  }
 ],
 "metadata": {
  "kernelspec": {
   "display_name": "Python 3",
   "language": "python",
   "name": "python3"
  },
  "language_info": {
   "codemirror_mode": {
    "name": "ipython",
    "version": 3
   },
   "file_extension": ".py",
   "mimetype": "text/x-python",
   "name": "python",
   "nbconvert_exporter": "python",
   "pygments_lexer": "ipython3",
   "version": "3.11.3"
  }
 },
 "nbformat": 4,
 "nbformat_minor": 2
}
