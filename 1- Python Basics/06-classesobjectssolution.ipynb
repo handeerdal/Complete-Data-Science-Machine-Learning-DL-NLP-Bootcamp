{
 "cells": [
  {
   "cell_type": "markdown",
   "metadata": {},
   "source": [
    "# Module: Classes and Objects Assignments\n",
    "## Lesson: Creating and Working with Classes and Objects\n",
    "### Assignment 1: Basic Class and Object Creation\n",
    "\n",
    "Create a class named `Car` with attributes `make`, `model`, and `year`. Create an object of the class and print its attributes."
   ]
  },
  {
   "cell_type": "code",
   "execution_count": 1,
   "id": "93617c8a",
   "metadata": {},
   "outputs": [
    {
     "name": "stdout",
     "output_type": "stream",
     "text": [
      "Toyota Camry 2020\n"
     ]
    }
   ],
   "source": [
    "class Car:\n",
    "    def __init__(self,make,model,year):\n",
    "        self.make=make\n",
    "        self.model=model\n",
    "        self.year=year\n",
    "   \n",
    "\n",
    "car= Car('Toyota', 'Camry', 2020)\n",
    "print(car.make, car.model, car.year)"
   ]
  },
  {
   "cell_type": "markdown",
   "metadata": {},
   "source": [
    "### Assignment 2: Methods in Class\n",
    "\n",
    "Add a method named `start_engine` to the `Car` class that prints a message when the engine starts. Create an object of the class and call the method."
   ]
  },
  {
   "cell_type": "code",
   "execution_count": 2,
   "metadata": {},
   "outputs": [
    {
     "name": "stdout",
     "output_type": "stream",
     "text": [
      "Toyota Camry 2020\n",
      "engine is working\n"
     ]
    }
   ],
   "source": [
    "class Car:\n",
    "    def __init__(self,make,model,year):\n",
    "        self.make=make\n",
    "        self.model=model\n",
    "        self.year=year\n",
    "    def start_engine(self):\n",
    "        print('engine is working')\n",
    "   \n",
    "\n",
    "car= Car('Toyota', 'Camry', 2020)\n",
    "print(car.make, car.model, car.year)\n",
    "car.start_engine()"
   ]
  },
  {
   "cell_type": "markdown",
   "metadata": {},
   "source": [
    "### Assignment 3: Class with Constructor\n",
    "\n",
    "Create a class named `Student` with attributes `name` and `age`. Use a constructor to initialize these attributes. Create an object of the class and print its attributes."
   ]
  },
  {
   "cell_type": "code",
   "execution_count": 3,
   "metadata": {},
   "outputs": [
    {
     "name": "stdout",
     "output_type": "stream",
     "text": [
      "John 20\n"
     ]
    }
   ],
   "source": [
    "class Student:\n",
    "    def __init__(self,name,age):\n",
    "        self.name=name\n",
    "        self.age=age\n",
    "student = Student('John', 20)\n",
    "print(student.name, student.age)"
   ]
  },
  {
   "cell_type": "markdown",
   "metadata": {},
   "source": [
    "### Assignment 4: Class with Private Attributes\n",
    "\n",
    "Create a class named `BankAccount` with private attributes `account_number` and `balance`. Add methods to deposit and withdraw money, and to check the balance. Create an object of the class and perform some operations."
   ]
  },
  {
   "cell_type": "code",
   "execution_count": 4,
   "id": "3f3c961a",
   "metadata": {},
   "outputs": [
    {
     "name": "stdout",
     "output_type": "stream",
     "text": [
      "1300\n"
     ]
    }
   ],
   "source": [
    "class BankAccount:\n",
    "    def __init__(self,account_number,balance):\n",
    "        self.__account_number=account_number\n",
    "        self.__balance=balance\n",
    "    def deposit(self,addition):\n",
    "        self.__balance+=addition\n",
    "    def withdraw(self,addition):\n",
    "        self.__balance-=addition\n",
    "    def check_balance(self):\n",
    "        return self.__balance\n",
    "account = BankAccount('12345678', 1000)\n",
    "account.deposit(500)\n",
    "account.withdraw(200)\n",
    "print(account.check_balance()) "
   ]
  },
  {
   "cell_type": "markdown",
   "metadata": {},
   "source": [
    "### Assignment 5: Class Inheritance\n",
    "\n",
    "Create a base class named `Person` with attributes `name` and `age`. Create a derived class named `Employee` that inherits from `Person` and adds an attribute `employee_id`. Create an object of the derived class and print its attributes."
   ]
  },
  {
   "cell_type": "code",
   "execution_count": 5,
   "metadata": {},
   "outputs": [
    {
     "name": "stdout",
     "output_type": "stream",
     "text": [
      "Alice 30 E123\n"
     ]
    }
   ],
   "source": [
    "class Person:\n",
    "    def __init__(self,name,age):\n",
    "        self.name=name\n",
    "        self.age=age\n",
    "class Employee(Person):\n",
    "    def __init__(self, name, age,employee_id):\n",
    "        super().__init__(name, age)\n",
    "        self.employee_id=employee_id\n",
    "employee = Employee('Alice', 30, 'E123')\n",
    "print(employee.name, employee.age, employee.employee_id)"
   ]
  },
  {
   "cell_type": "markdown",
   "metadata": {},
   "source": [
    "### Assignment 6: Method Overriding\n",
    "\n",
    "In the `Employee` class, override the `__str__` method to return a string representation of the object. Create an object of the class and print it."
   ]
  },
  {
   "cell_type": "code",
   "execution_count": 6,
   "metadata": {},
   "outputs": [
    {
     "name": "stdout",
     "output_type": "stream",
     "text": [
      "employee id is30\n"
     ]
    }
   ],
   "source": [
    "class Employee(Person):\n",
    "    def __init__(self,employee_id):\n",
    "        self.employee_id = employee_id\n",
    "    def __str__(self):\n",
    "        return f'employee id is{self.employee_id}'\n",
    "    \n",
    "employee = Employee(30)\n",
    "print(employee)\n"
   ]
  },
  {
   "cell_type": "markdown",
   "metadata": {},
   "source": [
    "### Assignment 7: Class Composition\n",
    "\n",
    "Create a class named `Address` with attributes `street`, `city`, and `zipcode`. Create a class named `Person` that has an `Address` object as an attribute. Create an object of the `Person` class and print its address."
   ]
  },
  {
   "cell_type": "code",
   "execution_count": null,
   "metadata": {},
   "outputs": [],
   "source": [
    "class Address:\n",
    "    def __init__(self, street, city, zipcode):\n",
    "        self.street = street\n",
    "        self.city = city\n",
    "        self.zipcode = zipcode\n",
    "\n",
    "class Person:\n",
    "    def __init__(self, name, age, address):\n",
    "        self.name = name\n",
    "        self.age = age\n",
    "        self.address = address\n",
    "\n",
    "address = Address('123 Main St', 'New York', '10001')\n",
    "person = Person('John', 25, address)\n",
    "print(person.address.street, person.address.city, person.address.zipcode)"
   ]
  },
  {
   "cell_type": "markdown",
   "metadata": {},
   "source": [
    "### Assignment 8: Class with Class Variables\n",
    "\n",
    "Create a class named `Counter` with a class variable `count`. Each time an object is created, increment the count. Add a method to get the current count. Create multiple objects and print the count."
   ]
  },
  {
   "cell_type": "code",
   "execution_count": null,
   "metadata": {},
   "outputs": [
    {
     "name": "stdout",
     "output_type": "stream",
     "text": [
      "3\n"
     ]
    }
   ],
   "source": [
    "class Counter:\n",
    "    count=0\n",
    "    def __init__(self):\n",
    "        Counter.count+=1\n",
    "\n",
    "\n",
    "    @classmethod ########for reach the variable as class \n",
    "\n",
    "    def getcount(cls): \n",
    "        return cls.count\n",
    "\n",
    "\n",
    "c1 = Counter()\n",
    "c2 = Counter()\n",
    "c3 = Counter()\n",
    "print(Counter.getcount())\n",
    "\n"
   ]
  },
  {
   "cell_type": "markdown",
   "metadata": {},
   "source": [
    "### Assignment 9: Static Methods\n",
    "\n",
    "Create a class named `MathOperations` with a static method to calculate the square of a number. Call the static method without creating an object."
   ]
  },
  {
   "cell_type": "code",
   "execution_count": 9,
   "metadata": {},
   "outputs": [
    {
     "name": "stdout",
     "output_type": "stream",
     "text": [
      "25\n"
     ]
    }
   ],
   "source": [
    "class MathOperations:\n",
    "    @staticmethod\n",
    "    def calculate(x):\n",
    "        return x*x\n",
    "\n",
    "print(MathOperations.calculate(5))\n",
    "\n",
    "    \n",
    "\n",
    "    "
   ]
  },
  {
   "cell_type": "markdown",
   "metadata": {},
   "source": [
    "### Assignment 10: Class with Properties\n",
    "\n",
    "Create a class named `Rectangle` with private attributes `length` and `width`. Use properties to get and set these attributes. Create an object of the class and test the properties."
   ]
  },
  {
   "cell_type": "code",
   "execution_count": 10,
   "metadata": {},
   "outputs": [
    {
     "name": "stdout",
     "output_type": "stream",
     "text": [
      "len is: 5 width is: 10 \n",
      "len is: 10 width is: 20 \n"
     ]
    }
   ],
   "source": [
    "class Rectangle:\n",
    "    def __init__(self,len,width):\n",
    "        self.__len=len\n",
    "        self.__width=width\n",
    "    def getter(self):\n",
    "        return f'len is: {self.__len} width is: {self.__width} '\n",
    "    def setterlen(self,a):\n",
    "        self.__len=a\n",
    "    def setterwidth(self,a):\n",
    "        self.__width=a\n",
    "\n",
    "\n",
    "newr=Rectangle(5,10)\n",
    "print(newr.getter())\n",
    "newr.setterlen(10)\n",
    "newr.setterwidth(20)\n",
    "print(newr.getter())\n"
   ]
  },
  {
   "cell_type": "code",
   "execution_count": 11,
   "id": "2e3af9d4",
   "metadata": {},
   "outputs": [
    {
     "name": "stdout",
     "output_type": "stream",
     "text": [
      "len is: 5, width is: 10\n",
      "len is: 10, width is: 20\n"
     ]
    }
   ],
   "source": [
    "##the code above is working but here is more pythonic way:\n",
    "\n",
    "class Rectangle:\n",
    "    def __init__(self, length, width):\n",
    "        self.__length = length\n",
    "        self.__width = width\n",
    "\n",
    "    @property\n",
    "    def length(self):  # Getter\n",
    "        return self.__length\n",
    "\n",
    "    @length.setter\n",
    "    def length(self, value):  # Setter\n",
    "        self.__length = value\n",
    "\n",
    "    @property\n",
    "    def width(self):  # Getter\n",
    "        return self.__width\n",
    "\n",
    "    @width.setter\n",
    "    def width(self, value):  # Setter\n",
    "        self.__width = value\n",
    "\n",
    "newr = Rectangle(5, 10)\n",
    "print(f'len is: {newr.length}, width is: {newr.width}')  # Getter çağırma\n",
    "newr.length = 10  # Setter çağırma\n",
    "newr.width = 20\n",
    "print(f'len is: {newr.length}, width is: {newr.width}')  # Getter çağırma\n"
   ]
  },
  {
   "cell_type": "markdown",
   "metadata": {},
   "source": [
    "### Assignment 11: Abstract Base Class\n",
    "\n",
    "Create an abstract base class named `Shape` with an abstract method `area`. Create derived classes `Circle` and `Square` that implement the `area` method. Create objects of the derived classes and call the `area` method."
   ]
  },
  {
   "cell_type": "code",
   "execution_count": null,
   "metadata": {},
   "outputs": [],
   "source": [
    "from abc import ABC, abstractmethod\n",
    "import math\n",
    "\n",
    "class Shape(ABC):\n",
    "    @abstractmethod\n",
    "    def area(self):\n",
    "        pass\n",
    "\n",
    "class Circle(Shape):\n",
    "    def __init__(self, radius):\n",
    "        self.radius = radius\n",
    "\n",
    "    def area(self):\n",
    "        return math.pi * self.radius ** 2\n",
    "\n",
    "class Square(Shape):\n",
    "    def __init__(self, side):\n",
    "        self.side = side\n",
    "\n",
    "    def area(self):\n",
    "        return self.side ** 2\n",
    "\n",
    "# Test\n",
    "# circle = Circle(5)\n",
    "# square = Square(4)\n",
    "# print(circle.area())  # 78.53981633974483\n",
    "# print(square.area())  # 16"
   ]
  },
  {
   "cell_type": "markdown",
   "metadata": {},
   "source": [
    "### Assignment 12: Operator Overloading\n",
    "\n",
    "Create a class named `Vector` with attributes `x` and `y`. Overload the `+` operator to add two `Vector` objects. Create objects of the class and test the operator overloading."
   ]
  },
  {
   "cell_type": "code",
   "execution_count": 3,
   "metadata": {},
   "outputs": [
    {
     "name": "stdout",
     "output_type": "stream",
     "text": [
      "Vector(12, 14)\n"
     ]
    }
   ],
   "source": [
    "class Vector:\n",
    "    def __init__(self,x,y):\n",
    "        self.x=x\n",
    "        self.y=y\n",
    "    def __add__(self, other):\n",
    "        return Vector(self.x + other.x, self.y + other.y)\n",
    "\n",
    "    def __str__(self):\n",
    "        return f\"Vector({self.x}, {self.y})\"\n",
    "    \n",
    "vec=Vector(5,6)\n",
    "vec+=Vector(7,8)\n",
    "print(vec)"
   ]
  },
  {
   "cell_type": "markdown",
   "metadata": {},
   "source": [
    "### Assignment 13: Class with Custom Exception\n",
    "\n",
    "Create a custom exception named `InsufficientBalanceError`. In the `BankAccount` class, raise this exception when a withdrawal amount is greater than the balance. Handle the exception and print an appropriate message."
   ]
  },
  {
   "cell_type": "code",
   "execution_count": 4,
   "metadata": {},
   "outputs": [
    {
     "name": "stdout",
     "output_type": "stream",
     "text": [
      "100\n",
      "Error: Insufficient balance!\n"
     ]
    }
   ],
   "source": [
    "class InsufficientBalanceError(Exception):\n",
    "    pass\n",
    "\n",
    "class BankAccount:\n",
    "    def __init__(self,account_number,balance):\n",
    "        self.__account_number=account_number\n",
    "        self.__balance=balance\n",
    "    def deposit(self,addition):\n",
    "        self.__balance+=addition\n",
    "    def withdraw(self, amount):\n",
    "        if amount > self.__balance:\n",
    "            raise InsufficientBalanceError(\"Insufficient balance!\")\n",
    "        else:\n",
    "            self.__balance -= amount\n",
    "\n",
    "    def check_balance(self):\n",
    "        return self.__balance\n",
    "\n",
    "\n",
    "account = BankAccount('12345678', 100)\n",
    "#account.deposit(500)\n",
    "print(account.check_balance()) \n",
    "try:\n",
    "    account.withdraw(500)\n",
    "except InsufficientBalanceError as e:\n",
    "    print(f\"Error: {e}\")\n",
    "\n",
    "    \n",
    "\n"
   ]
  },
  {
   "cell_type": "markdown",
   "metadata": {},
   "source": [
    "### Assignment 14: Class with Context Manager\n",
    "\n",
    "Create a class named `FileManager` that implements the context manager protocol to open and close a file. Use this class to read the contents of a file."
   ]
  },
  {
   "cell_type": "code",
   "execution_count": null,
   "metadata": {},
   "outputs": [],
   "source": [
    "class FileManager:\n",
    "    def __init__(self, filename, mode):\n",
    "        self.filename = filename\n",
    "        self.mode = mode\n",
    "\n",
    "    def __enter__(self):\n",
    "        self.file = open(self.filename, self.mode)\n",
    "        return self.file\n",
    "\n",
    "    def __exit__(self, exc_type, exc_value, traceback):\n",
    "        self.file.close()"
   ]
  },
  {
   "cell_type": "markdown",
   "metadata": {},
   "source": [
    "### Assignment 15: Chaining Methods\n",
    "\n",
    "Create a class named `Calculator` with methods to add, subtract, multiply, and divide. Each method should return the object itself to allow method chaining. Create an object and chain multiple method calls."
   ]
  },
  {
   "cell_type": "code",
   "execution_count": null,
   "metadata": {},
   "outputs": [],
   "source": [
    "class Calculator:\n",
    "    def __init__(self, value=0):\n",
    "        self.value = value \n",
    "    def add(self, num):\n",
    "        self.value += num\n",
    "        return self  # Self döndürerek zincirleme işlemi sağlıyoruz\n",
    "\n",
    "    def subtract(self, num):\n",
    "        self.value -= num\n",
    "        return self\n",
    "\n",
    "    def multiply(self, num):\n",
    "        self.value *= num\n",
    "        return self\n",
    "\n",
    "    def divide(self, num):\n",
    "        if num != 0:\n",
    "            self.value /= num\n",
    "        else:\n",
    "            print(\"Error: Division by zero!\")\n",
    "        return self\n",
    "\n",
    "    def result(self):\n",
    "        return self.value  \n",
    "\n",
    "\n",
    "calc = Calculator()\n",
    "result = calc.add(10).subtract(5).multiply(3).divide(2).result()\n",
    "print(\"Final Result:\", result) \n"
   ]
  }
 ],
 "metadata": {
  "kernelspec": {
   "display_name": "Python 3",
   "language": "python",
   "name": "python3"
  },
  "language_info": {
   "codemirror_mode": {
    "name": "ipython",
    "version": 3
   },
   "file_extension": ".py",
   "mimetype": "text/x-python",
   "name": "python",
   "nbconvert_exporter": "python",
   "pygments_lexer": "ipython3",
   "version": "3.11.3"
  }
 },
 "nbformat": 4,
 "nbformat_minor": 5
}
